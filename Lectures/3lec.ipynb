{
 "cells": [
  {
   "attachments": {},
   "cell_type": "markdown",
   "metadata": {},
   "source": [
    "У координат: Прямолин движ - диффуз участок $<\\Delta r^2>(t)$ к этому приводит\n",
    "\n",
    "У скоростей: Прямолин участок - ~const переходит, как раз где она становится примерно конст это и есть время динмаической памяти\n",
    "\n",
    "**Координаты и скорости сравниваем для разных dt не в одинаковый номер шага, а в одинаковое t = $\\sum dt$**"
   ]
  },
  {
   "attachments": {},
   "cell_type": "markdown",
   "metadata": {},
   "source": [
    "Как считать давление:\n",
    "\n",
    "$\n",
    "P = \\dfrac{2 N}{3 V}<E_{kin}> + \\dfrac{1}{3V}<\\sum\\sum_{i < j}\\vec{F}_{ij} \\cdot \\vec{r_{ij}}> = \n",
    "$\n",
    "\n",
    "- оно состоит из кинетической и потенциальной частей\n",
    "\n",
    "стр 332 книжки"
   ]
  },
  {
   "attachments": {},
   "cell_type": "markdown",
   "metadata": {},
   "source": [
    "$\\Delta p_{tail}$ получить - считая давления при разных $r_{cut}$ просто - и получаем зависимость давления от радиуса обрезки"
   ]
  },
  {
   "attachments": {},
   "cell_type": "markdown",
   "metadata": {},
   "source": [
    "r_cut = 5sigma, то L = 10 sigma / sqrt(3) Надо взять"
   ]
  },
  {
   "attachments": {},
   "cell_type": "markdown",
   "metadata": {},
   "source": [
    "$alpha = -\\dfrac{1}{V}\\dfrac{dV}{dP}$ - в ро можно записать через координаты $P(\\rho)$"
   ]
  },
  {
   "attachments": {},
   "cell_type": "markdown",
   "metadata": {},
   "source": [
    "# Метод блочных средних:"
   ]
  },
  {
   "attachments": {},
   "cell_type": "markdown",
   "metadata": {},
   "source": [
    "(на 2кк шагов сразу это делаем)"
   ]
  },
  {
   "attachments": {},
   "cell_type": "markdown",
   "metadata": {},
   "source": [
    "$<A> = сумма всех / N$"
   ]
  },
  {
   "attachments": {},
   "cell_type": "markdown",
   "metadata": {},
   "source": [
    "среднекв так же как обычно считаем"
   ]
  },
  {
   "attachments": {},
   "cell_type": "markdown",
   "metadata": {},
   "source": [
    "Выбираем величину (например температуру) и оцениваем методом блочных средних"
   ]
  }
 ],
 "metadata": {
  "kernelspec": {
   "display_name": "Python 3",
   "language": "python",
   "name": "python3"
  },
  "language_info": {
   "name": "python",
   "version": "3.11.0"
  },
  "orig_nbformat": 4,
  "vscode": {
   "interpreter": {
    "hash": "aee8b7b246df8f9039afb4144a1f6fd8d2ca17a180786b69acc140d282b71a49"
   }
  }
 },
 "nbformat": 4,
 "nbformat_minor": 2
}
